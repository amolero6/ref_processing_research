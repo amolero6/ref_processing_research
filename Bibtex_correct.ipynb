{
 "cells": [
  {
   "cell_type": "code",
   "execution_count": 1,
   "metadata": {},
   "outputs": [],
   "source": [
    "folder = 'data'\n",
    "file = 'whole_bib'\n",
    "file_name = file+'.bib'"
   ]
  },
  {
   "cell_type": "code",
   "execution_count": 2,
   "metadata": {},
   "outputs": [
    {
     "name": "stdout",
     "output_type": "stream",
     "text": [
      "Archivo .bib limpio\n"
     ]
    }
   ],
   "source": [
    "import bibtexparser\n",
    "import os\n",
    "\n",
    "# Cargar el archivo .bib\n",
    "with open(os.path.join(folder,file_name), 'r') as bibtex_file:\n",
    "    bib_database = bibtexparser.load(bibtex_file)\n",
    "\n",
    "# Eliminar el campo 'file' de cada entrada\n",
    "for entry in bib_database.entries:\n",
    "    if 'file' in entry:\n",
    "        del entry['file']\n",
    "    if 'note' in entry:\n",
    "        del entry['note']\n",
    "\n",
    "# Guardar el archivo .bib modificado\n",
    "with open(os.path.join(folder,file+'_cleaned'+'.bib'), 'w') as bibtex_file:\n",
    "    bibtexparser.dump(bib_database, bibtex_file)\n",
    "\n",
    "print(\"Archivo .bib limpio\")"
   ]
  },
  {
   "cell_type": "code",
   "execution_count": 11,
   "metadata": {},
   "outputs": [
    {
     "name": "stdout",
     "output_type": "stream",
     "text": [
      "Papers repetidos encontrados:\n",
      "- kimSemiSupervisedAutoencoderAuxiliary2020\n",
      "- munirFuseADUnsupervisedAnomaly2019\n",
      "- chiBearingFaultDiagnosis2022\n",
      "- yangSelfSupervisedLearningSignal2023\n"
     ]
    }
   ],
   "source": [
    "# Función para cargar un archivo .bib y extraer las claves únicas\n",
    "def load_bibtex(file_path):\n",
    "    with open(file_path, 'r') as bibtex_file:\n",
    "        bib_database = bibtexparser.load(bibtex_file)\n",
    "    return bib_database.entries\n",
    "\n",
    "# Cargar los dos archivos .bib\n",
    "bib1_entries = load_bibtex('data/unsupervised_cleaned.bib')  # Reemplaza con la ruta del primer archivo .bib\n",
    "bib2_entries = load_bibtex('data/supervised_cleaned.bib')  # Reemplaza con la ruta del segundo archivo .bib\n",
    "\n",
    "# Extraer claves únicas (puedes usar 'ID', 'title', o 'doi' según tus necesidades)\n",
    "bib1_keys = {entry.get('ID', '').strip() for entry in bib1_entries}\n",
    "bib2_keys = {entry.get('ID', '').strip() for entry in bib2_entries}\n",
    "\n",
    "# Encontrar claves repetidas\n",
    "repeated_keys = bib1_keys.intersection(bib2_keys)\n",
    "\n",
    "# Mostrar resultados\n",
    "if repeated_keys:\n",
    "    print(\"Papers repetidos encontrados:\")\n",
    "    for key in repeated_keys:\n",
    "        print(f\"- {key}\")\n",
    "else:\n",
    "    print(\"No hay papers repetidos.\")"
   ]
  }
 ],
 "metadata": {
  "kernelspec": {
   "display_name": ".envref",
   "language": "python",
   "name": "python3"
  },
  "language_info": {
   "codemirror_mode": {
    "name": "ipython",
    "version": 3
   },
   "file_extension": ".py",
   "mimetype": "text/x-python",
   "name": "python",
   "nbconvert_exporter": "python",
   "pygments_lexer": "ipython3",
   "version": "3.11.5"
  }
 },
 "nbformat": 4,
 "nbformat_minor": 2
}
