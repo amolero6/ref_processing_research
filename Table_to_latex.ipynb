{
 "cells": [
  {
   "cell_type": "code",
   "execution_count": 1,
   "metadata": {},
   "outputs": [],
   "source": [
    "import pandas as pd\n",
    "import matplotlib.pyplot as plt\n",
    "import seaborn as sns\n",
    "import os\n",
    "import warnings\n",
    "import bibtexparser\n",
    "import json\n",
    "import openpyxl"
   ]
  },
  {
   "cell_type": "code",
   "execution_count": 2,
   "metadata": {},
   "outputs": [],
   "source": [
    "dataset_folder = \"data\"\n",
    "file = \"unsupervised_collection.json\"\n",
    "# Cargar el archivo JSON exportado desde Zotero\n",
    "with open(os.path.join(dataset_folder,file), 'r') as f:\n",
    "    data = json.load(f)\n",
    "\n",
    "# Extraer los datos relevantes\n",
    "records = []\n",
    "for item in data['items']:\n",
    "    record = {\n",
    "        'Citation Key': item.get('citationKey', 'N/A'),\n",
    "        'Title': item.get('title', 'N/A'),\n",
    "        'Author': ', '.join([creator['lastName'] for creator in item.get('creators', []) if 'lastName' in creator]),\n",
    "        'Publication Year': item.get('date', 'N/A'),\n",
    "        'Tags': item.get('tags')\n",
    "        # Agrega más campos según sea necesario\n",
    "    }\n",
    "    records.append(record)\n",
    "\n",
    "# Crear un DataFrame\n",
    "df = pd.DataFrame(records)"
   ]
  },
  {
   "cell_type": "code",
   "execution_count": 3,
   "metadata": {},
   "outputs": [],
   "source": [
    "df['Publication Year'] = df['Publication Year'].str.extract(r'(\\d{4})')"
   ]
  },
  {
   "cell_type": "code",
   "execution_count": 4,
   "metadata": {},
   "outputs": [],
   "source": [
    "# Convertir la columna 'Tags' de una lista de diccionarios a una lista simple\n",
    "df['Tags'] = df['Tags'].apply(lambda x: [tag['tag'] for tag in x] if isinstance(x, list) else [])"
   ]
  },
  {
   "cell_type": "code",
   "execution_count": 5,
   "metadata": {},
   "outputs": [
    {
     "data": {
      "text/html": [
       "<div>\n",
       "<style scoped>\n",
       "    .dataframe tbody tr th:only-of-type {\n",
       "        vertical-align: middle;\n",
       "    }\n",
       "\n",
       "    .dataframe tbody tr th {\n",
       "        vertical-align: top;\n",
       "    }\n",
       "\n",
       "    .dataframe thead th {\n",
       "        text-align: right;\n",
       "    }\n",
       "</style>\n",
       "<table border=\"1\" class=\"dataframe\">\n",
       "  <thead>\n",
       "    <tr style=\"text-align: right;\">\n",
       "      <th></th>\n",
       "      <th>Citation Key</th>\n",
       "      <th>Title</th>\n",
       "      <th>Author</th>\n",
       "      <th>Publication Year</th>\n",
       "      <th>Tags</th>\n",
       "    </tr>\n",
       "  </thead>\n",
       "  <tbody>\n",
       "    <tr>\n",
       "      <th>0</th>\n",
       "      <td>alnegheimishM2ADMultiSensorMultiSystem2025</td>\n",
       "      <td>M2AD: Multi-Sensor Multi-System Anomaly Detect...</td>\n",
       "      <td>Alnegheimish, Chandrayan, He, Pradhan, Reimher...</td>\n",
       "      <td>2025</td>\n",
       "      <td>[1D input, Anomaly Score: Dynamic, Arch type: ...</td>\n",
       "    </tr>\n",
       "    <tr>\n",
       "      <th>1</th>\n",
       "      <td>arellano-espitiaDeepCompactClusteringBasedAnom...</td>\n",
       "      <td>Deep-Compact-Clustering Based Anomaly Detectio...</td>\n",
       "      <td>Arellano-Espitia, Delgado-Prieto, Gonzalez-Abr...</td>\n",
       "      <td>2021</td>\n",
       "      <td>[1D input, Anomaly detection, Anomaly Score: D...</td>\n",
       "    </tr>\n",
       "    <tr>\n",
       "      <th>2</th>\n",
       "      <td>baidyaAnomalyDetectionTime2023</td>\n",
       "      <td>Anomaly Detection in Time Series Data Using Re...</td>\n",
       "      <td>Baidya, Jeong</td>\n",
       "      <td>2023</td>\n",
       "      <td>[Anomaly detection, Transformer, Autoencoder, ...</td>\n",
       "    </tr>\n",
       "    <tr>\n",
       "      <th>3</th>\n",
       "      <td>chiBearingFaultDiagnosis2022</td>\n",
       "      <td>Bearing Fault Diagnosis for Time-Varying Syste...</td>\n",
       "      <td>Chi, Yang, Shao, Zhang</td>\n",
       "      <td>2022</td>\n",
       "      <td>[1D input, Anomaly detection, Anomaly Score: S...</td>\n",
       "    </tr>\n",
       "    <tr>\n",
       "      <th>4</th>\n",
       "      <td>ellefsenOnlineFaultDetection2020</td>\n",
       "      <td>Online Fault Detection in Autonomous Ferries: ...</td>\n",
       "      <td>Ellefsen, Han, Cheng, Holmeset, Aesoy, Zhang</td>\n",
       "      <td>2020</td>\n",
       "      <td>[1D input, Anomaly detection, Anomaly Score: D...</td>\n",
       "    </tr>\n",
       "  </tbody>\n",
       "</table>\n",
       "</div>"
      ],
      "text/plain": [
       "                                        Citation Key  \\\n",
       "0         alnegheimishM2ADMultiSensorMultiSystem2025   \n",
       "1  arellano-espitiaDeepCompactClusteringBasedAnom...   \n",
       "2                     baidyaAnomalyDetectionTime2023   \n",
       "3                       chiBearingFaultDiagnosis2022   \n",
       "4                   ellefsenOnlineFaultDetection2020   \n",
       "\n",
       "                                               Title  \\\n",
       "0  M2AD: Multi-Sensor Multi-System Anomaly Detect...   \n",
       "1  Deep-Compact-Clustering Based Anomaly Detectio...   \n",
       "2  Anomaly Detection in Time Series Data Using Re...   \n",
       "3  Bearing Fault Diagnosis for Time-Varying Syste...   \n",
       "4  Online Fault Detection in Autonomous Ferries: ...   \n",
       "\n",
       "                                              Author Publication Year  \\\n",
       "0  Alnegheimish, Chandrayan, He, Pradhan, Reimher...             2025   \n",
       "1  Arellano-Espitia, Delgado-Prieto, Gonzalez-Abr...             2021   \n",
       "2                                      Baidya, Jeong             2023   \n",
       "3                             Chi, Yang, Shao, Zhang             2022   \n",
       "4       Ellefsen, Han, Cheng, Holmeset, Aesoy, Zhang             2020   \n",
       "\n",
       "                                                Tags  \n",
       "0  [1D input, Anomaly Score: Dynamic, Arch type: ...  \n",
       "1  [1D input, Anomaly detection, Anomaly Score: D...  \n",
       "2  [Anomaly detection, Transformer, Autoencoder, ...  \n",
       "3  [1D input, Anomaly detection, Anomaly Score: S...  \n",
       "4  [1D input, Anomaly detection, Anomaly Score: D...  "
      ]
     },
     "execution_count": 5,
     "metadata": {},
     "output_type": "execute_result"
    }
   ],
   "source": [
    "df.head()"
   ]
  },
  {
   "cell_type": "code",
   "execution_count": 6,
   "metadata": {},
   "outputs": [],
   "source": [
    "Method_type = ['Reconstruction','Forecasting-based','Representation','Hybrid']\n",
    "Architecture_type = ['Autoencoder', 'GAN', 'Variable Autoencoder','U-net', 'Normalizing Flow', 'Arch type: Custom Transformer', 'Arch type: Direct model', 'Arch type: SL', 'Autoencoder + Diffusion Model', 'Autoencoder + Transformer']\n",
    "Base_model = ['MLP','CNN', 'LSTM', 'Transformer', 'Ensemble', 'Ensemble (CNN + Attention + LSTM)', 'GMM','IMMSC' ,'TCN','MOPA']\n",
    "Component_type = ['Generic / Benchmark data', 'bearings', 'Aero engine', '3D printer', 'Chemical plant', 'Diesel engine','Engine', 'Gearbox', 'Marine engine', 'Power plant', 'ECG data', 'IoT devices','Vehicle','Wind turbine']\n",
    "Interpretability = ['Interpretability: Not addressed','Output residuals', 'Interpretability: Attention + residuals', 'Interpretability: Latent + Output residuals', 'Interpretability: Latent space', 'Interpretability: Output residuals']\n",
    "Data_input = ['1D input', '2D input']\n",
    "Data_channels = ['Univariate', 'Multivariate']\n",
    "Fleet_data = ['Fleet data', 'Single entity']\n",
    "Anomaly_score = ['Anomaly Score: Static', 'Anomaly Score: Dynamic']\n"
   ]
  },
  {
   "cell_type": "code",
   "execution_count": 7,
   "metadata": {},
   "outputs": [],
   "source": [
    "def find_tag(tags, category_list):\n",
    "    for tag in tags:\n",
    "        if tag in category_list:\n",
    "            return tag\n",
    "    return None"
   ]
  },
  {
   "cell_type": "code",
   "execution_count": 8,
   "metadata": {},
   "outputs": [],
   "source": [
    "# Crear un nuevo DataFrame con las categorías\n",
    "new_data = []\n",
    "missing_tags = []\n",
    "for _, row in df.iterrows():\n",
    "    tags = row['Tags']\n",
    "    paper_data = {\n",
    "        'Paper title': f\"\\\\cite{{{row['Citation Key']}}}\",\n",
    "        'Publication Year': row['Publication Year'],\n",
    "        'Method_type': find_tag(tags, Method_type),\n",
    "        'Architecture_type': find_tag(tags, Architecture_type),\n",
    "        'Base_model': find_tag(tags, Base_model),\n",
    "        'Component_type': find_tag(tags, Component_type),\n",
    "        'Interpretability': find_tag(tags, Interpretability),\n",
    "        'Data_input': find_tag(tags, Data_input),\n",
    "        'Data_channels': find_tag(tags, Data_channels),\n",
    "        'Fleet_data': find_tag(tags, Fleet_data),\n",
    "        'Anomaly_score': find_tag(tags, Anomaly_score),\n",
    "    }\n",
    "    \n",
    "    # Verificar si falta alguna categoría\n",
    "    if None in paper_data.values():\n",
    "        missing_categories = [key for key, value in paper_data.items() if value is None]\n",
    "        warnings.warn(f\"El paper '{row['Title']}' no tiene tags para las categorías: {', '.join(missing_categories)}\")\n",
    "        missing_tags.append({'Paper title': row['Title'], 'Missing categories': missing_categories})\n",
    "        \n",
    "    new_data.append(paper_data)\n",
    "\n",
    "# Crear el nuevo DataFrame\n",
    "new_df = pd.DataFrame(new_data)\n",
    "\n",
    "# Mostrar los artículos con categorías faltantes\n",
    "if missing_tags:\n",
    "    print(\"Artículos con categorías faltantes:\")\n",
    "    for item in missing_tags:\n",
    "        print(f\"- {item['Title']}: {', '.join(item['Missing categories'])}\")\n"
   ]
  },
  {
   "cell_type": "code",
   "execution_count": 9,
   "metadata": {},
   "outputs": [
    {
     "data": {
      "text/plain": [
       "'\\\\cite{alnegheimishM2ADMultiSensorMultiSystem2025}'"
      ]
     },
     "execution_count": 9,
     "metadata": {},
     "output_type": "execute_result"
    }
   ],
   "source": [
    "new_df['Paper title'][0]"
   ]
  },
  {
   "cell_type": "code",
   "execution_count": 9,
   "metadata": {},
   "outputs": [],
   "source": [
    "new_df['Interpretability'] = new_df['Interpretability'].replace({\n",
    "    'Interpretability: Not addressed': r'\\texttimes',\n",
    "    'Interpretability: Attention + residuals': 'Attention + Res.',\n",
    "    'Interpretability: Latent + Output residuals': 'Latent + Res.',\n",
    "    'Interpretability: Latent space': 'Latent space',\n",
    "    'Interpretability: Output residuals': 'Output Res.'\n",
    "})"
   ]
  },
  {
   "cell_type": "code",
   "execution_count": 10,
   "metadata": {},
   "outputs": [],
   "source": [
    "new_df['Base_model'] = new_df['Base_model'].replace({\n",
    "    'Ensemble (CNN + Attention + LSTM)': 'CNN+Att.+LSTM',\n",
    "    'IMMSC': 'Shallow learning',\n",
    "    'MOPA': 'Shallow learning',\n",
    "    'GMM': 'Shallow learning'\n",
    "    \n",
    "})"
   ]
  },
  {
   "cell_type": "code",
   "execution_count": 11,
   "metadata": {},
   "outputs": [],
   "source": [
    "new_df['Architecture_type'] = new_df['Architecture_type'].replace({\n",
    "    'Arch type: Custom Transformer': 'Custom Transformer',\n",
    "    'Arch type: Direct model': 'Direct model',\n",
    "    'Arch type: SL': 'Shallow learning',\n",
    "    'Autoencoder + Diffusion Model': 'AE + Diffusion',\n",
    "    'Autoencoder + Transformer': 'AE + Transformer'\n",
    "})"
   ]
  },
  {
   "cell_type": "code",
   "execution_count": 12,
   "metadata": {},
   "outputs": [],
   "source": [
    "new_df['Anomaly_score'] = new_df['Anomaly_score'].replace({\n",
    "    'Anomaly Score: Static': 'Static',\n",
    "    'Anomaly Score: Dynamic': 'Dynamic'\n",
    "})"
   ]
  },
  {
   "cell_type": "code",
   "execution_count": 13,
   "metadata": {},
   "outputs": [],
   "source": [
    "new_df['Component_type'] = new_df['Component_type'].replace({\n",
    "    'Generic / Benchmark data': 'Benchmark data'\n",
    "})"
   ]
  },
  {
   "cell_type": "code",
   "execution_count": 14,
   "metadata": {},
   "outputs": [],
   "source": [
    "new_df = new_df.sort_values(by='Publication Year', ascending=False)"
   ]
  },
  {
   "cell_type": "code",
   "execution_count": 18,
   "metadata": {},
   "outputs": [
    {
     "data": {
      "text/html": [
       "<div>\n",
       "<style scoped>\n",
       "    .dataframe tbody tr th:only-of-type {\n",
       "        vertical-align: middle;\n",
       "    }\n",
       "\n",
       "    .dataframe tbody tr th {\n",
       "        vertical-align: top;\n",
       "    }\n",
       "\n",
       "    .dataframe thead th {\n",
       "        text-align: right;\n",
       "    }\n",
       "</style>\n",
       "<table border=\"1\" class=\"dataframe\">\n",
       "  <thead>\n",
       "    <tr style=\"text-align: right;\">\n",
       "      <th></th>\n",
       "      <th>Paper title</th>\n",
       "      <th>Publication Year</th>\n",
       "      <th>Method_type</th>\n",
       "      <th>Architecture_type</th>\n",
       "      <th>Base_model</th>\n",
       "      <th>Component_type</th>\n",
       "      <th>Interpretability</th>\n",
       "      <th>Data_input</th>\n",
       "      <th>Data_channels</th>\n",
       "      <th>Fleet_data</th>\n",
       "      <th>Anomaly_score</th>\n",
       "    </tr>\n",
       "  </thead>\n",
       "  <tbody>\n",
       "    <tr>\n",
       "      <th>0</th>\n",
       "      <td>\\cite{alnegheimishM2ADMultiSensorMultiSystem2025}</td>\n",
       "      <td>2025</td>\n",
       "      <td>Forecasting-based</td>\n",
       "      <td>Direct model</td>\n",
       "      <td>LSTM</td>\n",
       "      <td>Benchmark data</td>\n",
       "      <td>Output residuals</td>\n",
       "      <td>1D input</td>\n",
       "      <td>Multivariate</td>\n",
       "      <td>Fleet data</td>\n",
       "      <td>Dynamic</td>\n",
       "    </tr>\n",
       "    <tr>\n",
       "      <th>8</th>\n",
       "      <td>\\cite{kangFaultAnomalyDetection2024}</td>\n",
       "      <td>2024</td>\n",
       "      <td>Representation</td>\n",
       "      <td>Custom Transformer</td>\n",
       "      <td>Transformer</td>\n",
       "      <td>Aero engine</td>\n",
       "      <td>Not addressed</td>\n",
       "      <td>1D input</td>\n",
       "      <td>Multivariate</td>\n",
       "      <td>Single entity</td>\n",
       "      <td>Static</td>\n",
       "    </tr>\n",
       "    <tr>\n",
       "      <th>29</th>\n",
       "      <td>\\cite{yanUnsupervisedLearningMachinery2024}</td>\n",
       "      <td>2024</td>\n",
       "      <td>Reconstruction</td>\n",
       "      <td>Autoencoder</td>\n",
       "      <td>MLP</td>\n",
       "      <td>bearings</td>\n",
       "      <td>Not addressed</td>\n",
       "      <td>1D input</td>\n",
       "      <td>Multivariate</td>\n",
       "      <td>Single entity</td>\n",
       "      <td>Dynamic</td>\n",
       "    </tr>\n",
       "    <tr>\n",
       "      <th>18</th>\n",
       "      <td>\\cite{namBreakingTimeFrequencyGranularity2024}</td>\n",
       "      <td>2024</td>\n",
       "      <td>Reconstruction</td>\n",
       "      <td>Direct model</td>\n",
       "      <td>Transformer</td>\n",
       "      <td>Benchmark data</td>\n",
       "      <td>Not addressed</td>\n",
       "      <td>1D input</td>\n",
       "      <td>Multivariate</td>\n",
       "      <td>Fleet data</td>\n",
       "      <td>Static</td>\n",
       "    </tr>\n",
       "    <tr>\n",
       "      <th>14</th>\n",
       "      <td>\\cite{milkovicFRAnomalyFlowbasedRapid2024}</td>\n",
       "      <td>2024</td>\n",
       "      <td>Representation</td>\n",
       "      <td>Normalizing Flow</td>\n",
       "      <td>CNN</td>\n",
       "      <td>Benchmark data</td>\n",
       "      <td>Output residuals</td>\n",
       "      <td>2D input</td>\n",
       "      <td>Univariate</td>\n",
       "      <td>Single entity</td>\n",
       "      <td>Static</td>\n",
       "    </tr>\n",
       "  </tbody>\n",
       "</table>\n",
       "</div>"
      ],
      "text/plain": [
       "                                          Paper title Publication Year  \\\n",
       "0   \\cite{alnegheimishM2ADMultiSensorMultiSystem2025}             2025   \n",
       "8                \\cite{kangFaultAnomalyDetection2024}             2024   \n",
       "29        \\cite{yanUnsupervisedLearningMachinery2024}             2024   \n",
       "18     \\cite{namBreakingTimeFrequencyGranularity2024}             2024   \n",
       "14         \\cite{milkovicFRAnomalyFlowbasedRapid2024}             2024   \n",
       "\n",
       "          Method_type   Architecture_type   Base_model  Component_type  \\\n",
       "0   Forecasting-based        Direct model         LSTM  Benchmark data   \n",
       "8      Representation  Custom Transformer  Transformer     Aero engine   \n",
       "29     Reconstruction         Autoencoder          MLP        bearings   \n",
       "18     Reconstruction        Direct model  Transformer  Benchmark data   \n",
       "14     Representation    Normalizing Flow          CNN  Benchmark data   \n",
       "\n",
       "    Interpretability Data_input Data_channels     Fleet_data Anomaly_score  \n",
       "0   Output residuals   1D input  Multivariate     Fleet data       Dynamic  \n",
       "8      Not addressed   1D input  Multivariate  Single entity        Static  \n",
       "29     Not addressed   1D input  Multivariate  Single entity       Dynamic  \n",
       "18     Not addressed   1D input  Multivariate     Fleet data        Static  \n",
       "14  Output residuals   2D input    Univariate  Single entity        Static  "
      ]
     },
     "execution_count": 18,
     "metadata": {},
     "output_type": "execute_result"
    }
   ],
   "source": [
    "new_df.head()"
   ]
  },
  {
   "cell_type": "code",
   "execution_count": 16,
   "metadata": {},
   "outputs": [],
   "source": [
    "new_df.to_excel(os.path.join(dataset_folder, 'unsupervised_collection.xlsx'), index=False)"
   ]
  },
  {
   "cell_type": "code",
   "execution_count": 15,
   "metadata": {},
   "outputs": [],
   "source": [
    "latex_df = new_df[['Paper title', 'Publication Year', 'Method_type', 'Base_model', 'Component_type', 'Fleet_data', 'Interpretability']]"
   ]
  },
  {
   "cell_type": "code",
   "execution_count": 16,
   "metadata": {},
   "outputs": [],
   "source": [
    "# Exportar a LaTeX\n",
    "latex_table = latex_df.to_latex(index=False)\n",
    "\n",
    "# Opcional: guardar en un archivo .tex\n",
    "with open('table.tex', 'w') as f:\n",
    "    f.write(r'\\begin{landscape}' + '\\n')\n",
    "    f.write(r'\\begin{longtable}{lllll}' + '\\n')  # Define las columnas de la tabla\n",
    "    f.write(r'\\caption{Summary table of papers for UAD in Time Series}\\label{tab:unsupervised_table} \\\\ ' + '\\n')\n",
    "    f.write(r'\\toprule' + '\\n')\n",
    "    f.write(r'Paper title & Publication Year & Method type & Base model & Component type & Fleet data & Interpretability \\\\ ' + '\\n')\n",
    "    f.write(r'\\midrule' + '\\n')\n",
    "    f.write(r'\\endfirsthead' + '\\n')\n",
    "    f.write(r'\\toprule' + '\\n')\n",
    "    f.write(r'Paper title & Publication Year & Method type & Base model & Component type & Fleet data & Interpretability \\\\ ' + '\\n')\n",
    "    f.write(r'\\midrule' + '\\n')\n",
    "    f.write(r'\\endhead' + '\\n')\n",
    "    f.write(r'\\bottomrule' + '\\n')\n",
    "    f.write(r'\\endfoot' + '\\n')\n",
    "    f.write(latex_table + '\\n')  # Aquí se inserta el contenido de la tabla\n",
    "    f.write(r'\\end{longtable}' + '\\n')\n",
    "    f.write(r'\\end{landscape}' + '\\n')"
   ]
  },
  {
   "cell_type": "markdown",
   "metadata": {},
   "source": [
    "Plotting\n"
   ]
  },
  {
   "cell_type": "code",
   "execution_count": 20,
   "metadata": {},
   "outputs": [
    {
     "data": {
      "image/png": "[encoded data removed]",
      "text/plain": [
       "<Figure size 1000x600 with 1 Axes>"
      ]
     },
     "metadata": {},
     "output_type": "display_data"
    }
   ],
   "source": [
    "\n",
    "# Agrupar y contar el número de artículos por 'Architecture_type' y 'Data_channels'\n",
    "grouped_df = new_df.groupby(['Architecture_type', 'Data_channels']).size().reset_index(name='Paper_count')\n",
    "\n",
    "# Pivotar los datos para que cada 'Data_channels' sea una columna\n",
    "pivot_df = grouped_df.pivot(index='Architecture_type', columns='Data_channels', values='Paper_count').fillna(0)\n",
    "\n",
    "# Calcular el total de artículos por 'Architecture_type' y ordenar\n",
    "pivot_df['Total'] = pivot_df.sum(axis=1)\n",
    "pivot_df = pivot_df.sort_values(by='Total', ascending=False).drop(columns=['Total'])  # Ordenar y eliminar columna auxiliar\n",
    "# Configurar estilo de gráfico para publicaciones científicas\n",
    "sns.set_context(\"paper\", font_scale=1.2)\n",
    "sns.set_style(\"whitegrid\")\n",
    "# Crear el gráfico de barras apiladas\n",
    "fig, ax = plt.subplots(figsize=(10, 6))\n",
    "bars = pivot_df.plot(kind='bar', stacked=True, ax=ax, colormap='tab10')\n",
    "\n",
    "# Ajustar las etiquetas del eje X para que estén correctamente alineadas\n",
    "ax.set_xticks(range(len(pivot_df.index)))  # Establecer las posiciones de las etiquetas\n",
    "ax.set_xticklabels(pivot_df.index, rotation=45, ha='right')  # Alinear las etiquetas con las barras\n",
    "\n",
    "# Personalizar el gráfico\n",
    "ax.set_title('Number of papers by architecture type and data channels', fontsize=14, weight='bold')\n",
    "ax.set_xlabel('Architecture Type', fontsize=12)\n",
    "ax.set_ylabel('Number of Papers', fontsize=12)\n",
    "ax.legend(title='Data channels', fontsize=10)\n",
    "ax.grid(True, which='major', linestyle='--', linewidth=0.5, alpha=0.7)  # Cuadrícula similar al gráfico compartido\n",
    "\n",
    "# Ajustar el diseño\n",
    "plt.tight_layout()\n",
    "\n",
    "# Mostrar el gráfico\n",
    "plt.show()"
   ]
  },
  {
   "cell_type": "code",
   "execution_count": null,
   "metadata": {},
   "outputs": [],
   "source": []
  }
 ],
 "metadata": {
  "kernelspec": {
   "display_name": ".envref",
   "language": "python",
   "name": "python3"
  },
  "language_info": {
   "codemirror_mode": {
    "name": "ipython",
    "version": 3
   },
   "file_extension": ".py",
   "mimetype": "text/x-python",
   "name": "python",
   "nbconvert_exporter": "python",
   "pygments_lexer": "ipython3",
   "version": "3.11.5"
  }
 },
 "nbformat": 4,
 "nbformat_minor": 2
}
